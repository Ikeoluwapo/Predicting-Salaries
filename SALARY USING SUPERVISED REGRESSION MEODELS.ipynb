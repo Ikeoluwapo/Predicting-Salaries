{
 "cells": [
  {
   "cell_type": "code",
   "execution_count": 132,
   "id": "42ddbc3f",
   "metadata": {},
   "outputs": [
    {
     "data": {
      "text/html": [
       "<div>\n",
       "<style scoped>\n",
       "    .dataframe tbody tr th:only-of-type {\n",
       "        vertical-align: middle;\n",
       "    }\n",
       "\n",
       "    .dataframe tbody tr th {\n",
       "        vertical-align: top;\n",
       "    }\n",
       "\n",
       "    .dataframe thead th {\n",
       "        text-align: right;\n",
       "    }\n",
       "</style>\n",
       "<table border=\"1\" class=\"dataframe\">\n",
       "  <thead>\n",
       "    <tr style=\"text-align: right;\">\n",
       "      <th></th>\n",
       "      <th>YearsExperience</th>\n",
       "      <th>Salary</th>\n",
       "    </tr>\n",
       "  </thead>\n",
       "  <tbody>\n",
       "    <tr>\n",
       "      <th>0</th>\n",
       "      <td>1.1</td>\n",
       "      <td>39343.0</td>\n",
       "    </tr>\n",
       "    <tr>\n",
       "      <th>1</th>\n",
       "      <td>1.3</td>\n",
       "      <td>46205.0</td>\n",
       "    </tr>\n",
       "    <tr>\n",
       "      <th>2</th>\n",
       "      <td>1.5</td>\n",
       "      <td>37731.0</td>\n",
       "    </tr>\n",
       "    <tr>\n",
       "      <th>3</th>\n",
       "      <td>2.0</td>\n",
       "      <td>43525.0</td>\n",
       "    </tr>\n",
       "    <tr>\n",
       "      <th>4</th>\n",
       "      <td>2.2</td>\n",
       "      <td>39891.0</td>\n",
       "    </tr>\n",
       "  </tbody>\n",
       "</table>\n",
       "</div>"
      ],
      "text/plain": [
       "   YearsExperience   Salary\n",
       "0              1.1  39343.0\n",
       "1              1.3  46205.0\n",
       "2              1.5  37731.0\n",
       "3              2.0  43525.0\n",
       "4              2.2  39891.0"
      ]
     },
     "execution_count": 132,
     "metadata": {},
     "output_type": "execute_result"
    }
   ],
   "source": [
    "import numpy as np\n",
    "import pandas as pd\n",
    "import matplotlib.pyplot as plt\n",
    "import seaborn as sns\n",
    "\n",
    "Salary = pd.read_csv(\"Salary_Data.csv\") #Importation of data\n",
    "Salary[:5]"
   ]
  },
  {
   "cell_type": "code",
   "execution_count": 90,
   "id": "8b1b4209",
   "metadata": {},
   "outputs": [
    {
     "data": {
      "text/plain": [
       "array([[1.1],\n",
       "       [1.3],\n",
       "       [1.5]])"
      ]
     },
     "execution_count": 90,
     "metadata": {},
     "output_type": "execute_result"
    }
   ],
   "source": [
    "#Split the data into dependent(y) and independent(x)\n",
    "\n",
    "x = Salary.iloc[:, 0:-1].values\n",
    "y = Salary.iloc[:, -1].values\n",
    "x[:3]"
   ]
  },
  {
   "cell_type": "code",
   "execution_count": 91,
   "id": "40877f26",
   "metadata": {
    "scrolled": false
   },
   "outputs": [
    {
     "data": {
      "text/plain": [
       "array([[3.2],\n",
       "       [7.9],\n",
       "       [5.9],\n",
       "       [4.5],\n",
       "       [1.3],\n",
       "       [7.1]])"
      ]
     },
     "execution_count": 91,
     "metadata": {},
     "output_type": "execute_result"
    }
   ],
   "source": [
    "#Split into Train and Test data\n",
    "\n",
    "from sklearn.model_selection import train_test_split\n",
    "x_train, x_test, y_train, y_test = train_test_split(x, y, test_size= 0.2, random_state= 12)\n",
    "x_test"
   ]
  },
  {
   "cell_type": "code",
   "execution_count": 92,
   "id": "e9f7fe9c",
   "metadata": {},
   "outputs": [
    {
     "data": {
      "text/plain": [
       "array([[-0.78699876],\n",
       "       [ 1.28714751],\n",
       "       [ 0.40453207]])"
      ]
     },
     "execution_count": 92,
     "metadata": {},
     "output_type": "execute_result"
    }
   ],
   "source": [
    "#Standardization\n",
    "from sklearn.preprocessing import StandardScaler\n",
    "sc = StandardScaler()\n",
    "x_train = sc.fit_transform(x_train)\n",
    "x_test = sc.fit_transform(x_test)\n",
    "x_test[:3]"
   ]
  },
  {
   "cell_type": "markdown",
   "id": "2bd58a54",
   "metadata": {},
   "source": [
    "### USING LINEAR REGRESSION"
   ]
  },
  {
   "cell_type": "code",
   "execution_count": 93,
   "id": "eb5e8a94",
   "metadata": {},
   "outputs": [
    {
     "data": {
      "text/plain": [
       "array([ 54848.51172093, 112064.06260595,  87717.01967616,  70674.0896253 ,\n",
       "        31718.82093763, 102325.24543403])"
      ]
     },
     "execution_count": 93,
     "metadata": {},
     "output_type": "execute_result"
    }
   ],
   "source": [
    "from sklearn.linear_model import LinearRegression\n",
    "model = LinearRegression() #To create  an instance of the LinearRegression\n",
    "\n",
    "# Training your model\n",
    "model.fit(x_train, y_train)\n",
    "\n",
    "# Making prediction on your Test data\n",
    "y_predict = model.predict(x_test)\n",
    "y_predict"
   ]
  },
  {
   "cell_type": "code",
   "execution_count": 94,
   "id": "11f76b38",
   "metadata": {},
   "outputs": [
    {
     "data": {
      "text/plain": [
       "array([27585.10890795])"
      ]
     },
     "execution_count": 94,
     "metadata": {},
     "output_type": "execute_result"
    }
   ],
   "source": [
    "# To check coefficient\n",
    "\n",
    "model.coef_"
   ]
  },
  {
   "cell_type": "code",
   "execution_count": 95,
   "id": "47b855c5",
   "metadata": {},
   "outputs": [
    {
     "data": {
      "text/plain": [
       "76557.95833333333"
      ]
     },
     "execution_count": 95,
     "metadata": {},
     "output_type": "execute_result"
    }
   ],
   "source": [
    "# To check intercept\n",
    "\n",
    "model.intercept_"
   ]
  },
  {
   "cell_type": "code",
   "execution_count": 96,
   "id": "fff37a98",
   "metadata": {},
   "outputs": [
    {
     "data": {
      "text/plain": [
       "array([[ 54848.51172093,  54445.        ],\n",
       "       [112064.06260595, 101302.        ],\n",
       "       [ 87717.01967616,  81363.        ],\n",
       "       [ 70674.0896253 ,  61111.        ],\n",
       "       [ 31718.82093763,  46205.        ],\n",
       "       [102325.24543403,  98273.        ]])"
      ]
     },
     "execution_count": 96,
     "metadata": {},
     "output_type": "execute_result"
    }
   ],
   "source": [
    "final = np.concatenate((y_predict.reshape(len(y_predict),1), y_test.reshape(len(y_test),1)),1)\n",
    "final"
   ]
  },
  {
   "cell_type": "markdown",
   "id": "27ae92e5",
   "metadata": {},
   "source": [
    "### USING DECISION TREE REGRESSION"
   ]
  },
  {
   "cell_type": "code",
   "execution_count": 97,
   "id": "2db4bb41",
   "metadata": {},
   "outputs": [
    {
     "data": {
      "text/plain": [
       "array([ 61617.33333333, 109608.33333333,  89588.66666667,  66983.5       ,\n",
       "        38537.        , 109608.33333333])"
      ]
     },
     "execution_count": 97,
     "metadata": {},
     "output_type": "execute_result"
    }
   ],
   "source": [
    "from sklearn.tree import DecisionTreeRegressor\n",
    "model = DecisionTreeRegressor(criterion=\"squared_error\",splitter=\"best\", min_samples_split=3, min_samples_leaf=2)\n",
    "\n",
    "# Training your model\n",
    "model.fit(x_train, y_train)\n",
    "\n",
    "# Making prediction on your Test data\n",
    "y_predict2 = model.predict(x_test)\n",
    "y_predict2"
   ]
  },
  {
   "cell_type": "code",
   "execution_count": 98,
   "id": "b5e38267",
   "metadata": {},
   "outputs": [
    {
     "data": {
      "text/plain": [
       "array([[ 61617.33333333,  54445.        ],\n",
       "       [109608.33333333, 101302.        ],\n",
       "       [ 89588.66666667,  81363.        ],\n",
       "       [ 66983.5       ,  61111.        ],\n",
       "       [ 38537.        ,  46205.        ],\n",
       "       [109608.33333333,  98273.        ]])"
      ]
     },
     "execution_count": 98,
     "metadata": {},
     "output_type": "execute_result"
    }
   ],
   "source": [
    "final = np.concatenate((y_predict2.reshape(len(y_predict2),1), y_test.reshape(len(y_test),1)),1)\n",
    "final"
   ]
  },
  {
   "cell_type": "markdown",
   "id": "2fb6f0f5",
   "metadata": {},
   "source": [
    "### USING RANDOM FOREST REGRESSION "
   ]
  },
  {
   "cell_type": "code",
   "execution_count": 99,
   "id": "131b4bf4",
   "metadata": {},
   "outputs": [
    {
     "data": {
      "text/plain": [
       "array([ 60667.36666667, 111149.68166667,  92775.33333333,  69879.89595238,\n",
       "        39654.51666667, 109079.07333333])"
      ]
     },
     "execution_count": 99,
     "metadata": {},
     "output_type": "execute_result"
    }
   ],
   "source": [
    "from sklearn.ensemble import RandomForestRegressor\n",
    "model = RandomForestRegressor(n_estimators=10, criterion=\"squared_error\", min_samples_split=3, min_samples_leaf=2)\n",
    "\n",
    "# Training your model\n",
    "model.fit(x_train, y_train)\n",
    "\n",
    "# Making prediction on your Test data\n",
    "y_predict3 = model.predict(x_test)\n",
    "y_predict3"
   ]
  },
  {
   "cell_type": "code",
   "execution_count": 100,
   "id": "b3bfa865",
   "metadata": {},
   "outputs": [
    {
     "data": {
      "text/plain": [
       "array([[ 60667.36666667,  54445.        ],\n",
       "       [111149.68166667, 101302.        ],\n",
       "       [ 92775.33333333,  81363.        ],\n",
       "       [ 69879.89595238,  61111.        ],\n",
       "       [ 39654.51666667,  46205.        ],\n",
       "       [109079.07333333,  98273.        ]])"
      ]
     },
     "execution_count": 100,
     "metadata": {},
     "output_type": "execute_result"
    }
   ],
   "source": [
    "final = np.concatenate((y_predict3.reshape(len(y_predict3),1), y_test.reshape(len(y_test),1)),1)\n",
    "final"
   ]
  },
  {
   "cell_type": "markdown",
   "id": "ded95649",
   "metadata": {},
   "source": [
    "### SUPPORT VECTOR MACHINE"
   ]
  },
  {
   "cell_type": "code",
   "execution_count": 101,
   "id": "9b69a3cc",
   "metadata": {},
   "outputs": [
    {
     "data": {
      "text/plain": [
       "array([ 37731., 121872., 105582.,  60150.,  39343., 122391.])"
      ]
     },
     "execution_count": 101,
     "metadata": {},
     "output_type": "execute_result"
    }
   ],
   "source": [
    "from sklearn.svm import LinearSVC\n",
    "model = LinearSVC(penalty='l2',loss='squared_hinge',dual = 'auto')\n",
    "\n",
    "# Training your model\n",
    "model.fit(x_train, y_train)\n",
    "\n",
    "# Making prediction on your Test data\n",
    "y_predict4 = model.predict(x_test)\n",
    "y_predict4"
   ]
  },
  {
   "cell_type": "code",
   "execution_count": 102,
   "id": "e2452bea",
   "metadata": {},
   "outputs": [
    {
     "data": {
      "text/plain": [
       "array([[ 37731.,  54445.],\n",
       "       [121872., 101302.],\n",
       "       [105582.,  81363.],\n",
       "       [ 60150.,  61111.],\n",
       "       [ 39343.,  46205.],\n",
       "       [122391.,  98273.]])"
      ]
     },
     "execution_count": 102,
     "metadata": {},
     "output_type": "execute_result"
    }
   ],
   "source": [
    "final = np.concatenate((y_predict4.reshape(len(y_predict4),1), y_test.reshape(len(y_test),1)),1)\n",
    "final"
   ]
  },
  {
   "cell_type": "markdown",
   "id": "05520fb8",
   "metadata": {},
   "source": [
    "### USING NAIVE BAYES"
   ]
  },
  {
   "cell_type": "code",
   "execution_count": 103,
   "id": "bc01cef7",
   "metadata": {},
   "outputs": [
    {
     "data": {
      "text/plain": [
       "array([ 64445., 105582.,  91738.,  67938.,  39343., 113812.])"
      ]
     },
     "execution_count": 103,
     "metadata": {},
     "output_type": "execute_result"
    }
   ],
   "source": [
    "from sklearn.naive_bayes import GaussianNB\n",
    "model = GaussianNB()\n",
    "\n",
    "# Training your model\n",
    "model.fit(x_train, y_train)\n",
    "\n",
    "# Making prediction on your Test data\n",
    "y_predict5 = model.predict(x_test)\n",
    "y_predict5"
   ]
  },
  {
   "cell_type": "code",
   "execution_count": 104,
   "id": "44c6e5a5",
   "metadata": {},
   "outputs": [
    {
     "data": {
      "text/plain": [
       "array([[ 64445.,  54445.],\n",
       "       [105582., 101302.],\n",
       "       [ 91738.,  81363.],\n",
       "       [ 67938.,  61111.],\n",
       "       [ 39343.,  46205.],\n",
       "       [113812.,  98273.]])"
      ]
     },
     "execution_count": 104,
     "metadata": {},
     "output_type": "execute_result"
    }
   ],
   "source": [
    "final = np.concatenate((y_predict5.reshape(len(y_predict5),1), y_test.reshape(len(y_test),1)),1)\n",
    "final"
   ]
  },
  {
   "cell_type": "markdown",
   "id": "c06e5b26",
   "metadata": {},
   "source": [
    "### USING KNN"
   ]
  },
  {
   "cell_type": "code",
   "execution_count": 105,
   "id": "257c10b7",
   "metadata": {},
   "outputs": [
    {
     "data": {
      "text/plain": [
       "[93519086.5,\n",
       " 94049661.16666667,\n",
       " 80293616.38888893,\n",
       " 44737894.28125,\n",
       " 55228187.786666654,\n",
       " 51977291.20370371,\n",
       " 57960669.97619045,\n",
       " 56146579.677083336,\n",
       " 51595215.73456792,\n",
       " 31083282.983333338,\n",
       " 15317759.831955917,\n",
       " 10879362.85185185,\n",
       " 20752307.924063124,\n",
       " 25976450.897959176,\n",
       " 43396342.91925925,\n",
       " 64019929.546875,\n",
       " 92799514.85986157,\n",
       " 126069771.59516461,\n",
       " 165061441.97414577]"
      ]
     },
     "execution_count": 105,
     "metadata": {},
     "output_type": "execute_result"
    }
   ],
   "source": [
    "# Elbow method to know the value for k, by default k is 5\n",
    "from sklearn.neighbors import KNeighborsRegressor\n",
    "from sklearn.metrics import mean_squared_error\n",
    "\n",
    "test_error_rates = []\n",
    "\n",
    "for k in range(1, 20):\n",
    "    knn_model = KNeighborsRegressor(n_neighbors=k)\n",
    "    knn_model.fit(x_train, y_train)\n",
    "    y_pred_test = knn_model.predict(x_test)\n",
    "    test_error = mean_squared_error(y_test, y_pred_test)\n",
    "    test_error_rates.append(test_error)\n",
    "test_error_rates #It seems the error is least at 11 "
   ]
  },
  {
   "cell_type": "code",
   "execution_count": 106,
   "id": "753891d6",
   "metadata": {},
   "outputs": [
    {
     "data": {
      "text/plain": [
       "array([ 53874.81818182, 103407.90909091,  81944.54545455,  65984.45454545,\n",
       "        52262.27272727, 103407.90909091])"
      ]
     },
     "execution_count": 106,
     "metadata": {},
     "output_type": "execute_result"
    }
   ],
   "source": [
    "from sklearn.neighbors import KNeighborsRegressor\n",
    "model6 = KNeighborsRegressor(n_neighbors=11, weights='uniform', algorithm='auto',leaf_size=30,p=2,metric='minkowski')\n",
    "model6.fit(x_train, y_train)\n",
    "y_predict6 = model6.predict(x_test)\n",
    "y_predict6"
   ]
  },
  {
   "cell_type": "code",
   "execution_count": 107,
   "id": "4893b8fe",
   "metadata": {},
   "outputs": [
    {
     "data": {
      "text/plain": [
       "array([[ 53874.81818182,  54445.        ],\n",
       "       [103407.90909091, 101302.        ],\n",
       "       [ 81944.54545455,  81363.        ],\n",
       "       [ 65984.45454545,  61111.        ],\n",
       "       [ 52262.27272727,  46205.        ],\n",
       "       [103407.90909091,  98273.        ]])"
      ]
     },
     "execution_count": 107,
     "metadata": {},
     "output_type": "execute_result"
    }
   ],
   "source": [
    "final = np.concatenate((y_predict6.reshape(len(y_predict6),1), y_test.reshape(len(y_test),1)),1)\n",
    "final"
   ]
  },
  {
   "cell_type": "markdown",
   "id": "e430866a",
   "metadata": {},
   "source": [
    "### Checking for best model"
   ]
  },
  {
   "cell_type": "code",
   "execution_count": 108,
   "id": "0a79b161",
   "metadata": {},
   "outputs": [
    {
     "name": "stdout",
     "output_type": "stream",
     "text": [
      "The mean_absolute_error for Linear Regression is 7603.518020791035\n",
      "The mean_absolute_error for Decision Tree Regression is 8096.694444444444\n",
      "The mean_absolute_error for Random Forest Regression is 8934.63904761905\n",
      "The mean_absolute_error for SVM Regression is 15574.0\n",
      "The mean_absolute_error for Naives Bayes is 8980.5\n",
      "The mean_absolute_error for KNN is 3220.5454545454536\n"
     ]
    }
   ],
   "source": [
    "#mean_absolute_error for Linear Regression\n",
    "from sklearn.metrics import mean_absolute_error, mean_squared_error, r2_score\n",
    "mae = mean_absolute_error(y_test, y_predict)\n",
    "\n",
    "#mean_absolute_error for Decision Tree Regression\n",
    "from sklearn.metrics import mean_absolute_error, mean_squared_error, r2_score\n",
    "mae2 = mean_absolute_error(y_test, y_predict2)\n",
    "\n",
    "#mean_absolute_error for Random Forest Regression\n",
    "from sklearn.metrics import mean_absolute_error, mean_squared_error, r2_score\n",
    "mae3 = mean_absolute_error(y_test, y_predict3)\n",
    "\n",
    "#mean_absolute_error for SVM\n",
    "from sklearn.metrics import mean_absolute_error, mean_squared_error, r2_score\n",
    "mae4 = mean_absolute_error(y_test, y_predict4)\n",
    "\n",
    "#mean_absolute_error for Naives Bayes\n",
    "from sklearn.metrics import mean_absolute_error, mean_squared_error, r2_score\n",
    "mae5 = mean_absolute_error(y_test, y_predict5)\n",
    "\n",
    "#mean_absolute_error for KNN\n",
    "from sklearn.metrics import mean_absolute_error, mean_squared_error, r2_score\n",
    "mae6 = mean_absolute_error(y_test, y_predict6)\n",
    "\n",
    "print(f\"The mean_absolute_error for Linear Regression is {mae}\")\n",
    "print(f\"The mean_absolute_error for Decision Tree Regression is {mae2}\")\n",
    "print(f\"The mean_absolute_error for Random Forest Regression is {mae3}\")\n",
    "print(f\"The mean_absolute_error for SVM Regression is {mae4}\")\n",
    "print(f\"The mean_absolute_error for Naives Bayes is {mae5}\")\n",
    "print(f\"The mean_absolute_error for KNN is {mae6}\")"
   ]
  },
  {
   "cell_type": "code",
   "execution_count": 109,
   "id": "b71ad22c",
   "metadata": {},
   "outputs": [
    {
     "name": "stdout",
     "output_type": "stream",
     "text": [
      "The Mean Squared Error for Linear Regression is 79013523.22577047\n",
      "The Mean Squared Error for Decision Tree Regression is 68312232.17129628\n",
      "The Mean Squared Error for Random Forest Regression is 83751603.71048285\n",
      "The Mean Squared Error for SVM Regression is 319788524.3333333\n",
      "The Mean Squared Error for Naives Bayes is 93519086.5\n",
      "The Mean Squared Error for KNN is 15317759.831955917\n"
     ]
    }
   ],
   "source": [
    "#Mean Squared Error (MSE) for Linear Regression\n",
    "from sklearn.metrics import mean_absolute_error, mean_squared_error, r2_score\n",
    "mse = mean_squared_error(y_test, y_predict)\n",
    "\n",
    "#Mean Squared Error (MSE) for Decision Tree Regression\n",
    "from sklearn.metrics import mean_absolute_error, mean_squared_error, r2_score\n",
    "mse2 = mean_squared_error(y_test, y_predict2)\n",
    "\n",
    "#Mean Squared Error (MSE) for Random Forest Regression\n",
    "from sklearn.metrics import mean_absolute_error, mean_squared_error, r2_score\n",
    "mse3 = mean_squared_error(y_test, y_predict3)\n",
    "\n",
    "#Mean Squared Error (MSE) for SVM\n",
    "from sklearn.metrics import mean_absolute_error, mean_squared_error, r2_score\n",
    "mse4 = mean_squared_error(y_test, y_predict4)\n",
    "\n",
    "#Mean Squared Error (MSE) for Naives Bayes\n",
    "from sklearn.metrics import mean_absolute_error, mean_squared_error, r2_score\n",
    "mse5 = mean_squared_error(y_test, y_predict5)\n",
    "\n",
    "#Mean Squared Error (MSE) for KNN\n",
    "from sklearn.metrics import mean_absolute_error, mean_squared_error, r2_score\n",
    "mse6 = mean_squared_error(y_test, y_predict6)\n",
    "\n",
    "print(f\"The Mean Squared Error for Linear Regression is {mse}\")\n",
    "print(f\"The Mean Squared Error for Decision Tree Regression is {mse2}\")\n",
    "print(f\"The Mean Squared Error for Random Forest Regression is {mse3}\")\n",
    "print(f\"The Mean Squared Error for SVM Regression is {mse4}\")\n",
    "print(f\"The Mean Squared Error for Naives Bayes is {mse5}\")\n",
    "print(f\"The Mean Squared Error for KNN is {mse6}\")"
   ]
  },
  {
   "cell_type": "code",
   "execution_count": 110,
   "id": "c8a587b5",
   "metadata": {},
   "outputs": [
    {
     "name": "stdout",
     "output_type": "stream",
     "text": [
      "The Root Mean Squared Error for Linear Regression is 8888.955125647248\n",
      "The Root Mean Squared Error for Decision Tree Regression is 8265.12142507878\n",
      "The Root Mean Squared Error for Random Forest Regression is 9151.5902285058\n",
      "The Root Mean Squared Error for SVM Regression is 17882.63191852176\n",
      "The Root Mean Squared Error for Naives Bayes is 9670.526691964611\n",
      "The Root Mean Squared Error for KNN is 3913.790979594582\n"
     ]
    }
   ],
   "source": [
    "#Root Mean Squared Error (RMSE) for Linear Regression\n",
    "from sklearn.metrics import mean_absolute_error, mean_squared_error, r2_score\n",
    "rmse = mean_squared_error(y_test, y_predict, squared=False)\n",
    "\n",
    "#Root Mean Squared Error (RMSE) for Decision Tree Regression\n",
    "from sklearn.metrics import mean_absolute_error, mean_squared_error, r2_score\n",
    "rmse2 = mean_squared_error(y_test, y_predict2, squared=False)\n",
    "\n",
    "#Root Mean Squared Error (RMSE) for Random Forest Regression\n",
    "from sklearn.metrics import mean_absolute_error, mean_squared_error, r2_score\n",
    "rmse3 = mean_squared_error(y_test, y_predict3, squared=False)\n",
    "\n",
    "#Root Mean Squared Error (RMSE)) for SVM\n",
    "from sklearn.metrics import mean_absolute_error, mean_squared_error, r2_score\n",
    "rmse4 = mean_squared_error(y_test, y_predict4, squared=False)\n",
    "\n",
    "#Root Mean Squared Error (RMSE) for Naives Bayes\n",
    "from sklearn.metrics import mean_absolute_error, mean_squared_error, r2_score\n",
    "rmse5 = mean_squared_error(y_test, y_predict5, squared=False)\n",
    "\n",
    "#Root Mean Squared Error (RMSE) for KNN\n",
    "from sklearn.metrics import mean_absolute_error, mean_squared_error, r2_score\n",
    "rmse6 = mean_squared_error(y_test, y_predict6, squared=False)\n",
    "\n",
    "print(f\"The Root Mean Squared Error for Linear Regression is {rmse}\")\n",
    "print(f\"The Root Mean Squared Error for Decision Tree Regression is {rmse2}\")\n",
    "print(f\"The Root Mean Squared Error for Random Forest Regression is {rmse3}\")\n",
    "print(f\"The Root Mean Squared Error for SVM Regression is {rmse4}\")\n",
    "print(f\"The Root Mean Squared Error for Naives Bayes is {rmse5}\")\n",
    "print(f\"The Root Mean Squared Error for KNN is {rmse6}\")"
   ]
  },
  {
   "cell_type": "code",
   "execution_count": 111,
   "id": "57d8e9ec",
   "metadata": {},
   "outputs": [
    {
     "name": "stdout",
     "output_type": "stream",
     "text": [
      "The R-squared (coefficient of determination) for Linear Regression is 0.8250362123724115\n",
      "The R-squared (coefficient of determination) for Decision Tree Regression is 0.8487326422866438\n",
      "The R-squared (coefficient of determination) for Random Forest Regression is 0.8145444323093848\n",
      "The R-squared (coefficient of determination) for SVM Regression is 0.29187550215519875\n",
      "The R-squared (coefficient of determination) for Naives Bayes is 0.7929157830013658\n",
      "The R-squared (coefficient of determination) for KNN is 0.9660810812028866\n"
     ]
    }
   ],
   "source": [
    "# R-squared (coefficient of determination)  for Linear Regression\n",
    "from sklearn.metrics import mean_absolute_error, mean_squared_error, r2_score\n",
    "r2 = r2_score(y_test, y_predict)\n",
    "\n",
    "# R-squared (coefficient of determination) for Decision Tree Regression\n",
    "from sklearn.metrics import mean_absolute_error, mean_squared_error, r2_score\n",
    "r2_2 = r2_score(y_test, y_predict2)\n",
    "\n",
    "# R-squared (coefficient of determination) for Random Forest Regression\n",
    "from sklearn.metrics import mean_absolute_error, mean_squared_error, r2_score\n",
    "r2_3 = r2_score(y_test, y_predict3)\n",
    "\n",
    "# R-squared (coefficient of determination) for SVM\n",
    "from sklearn.metrics import mean_absolute_error, mean_squared_error, r2_score\n",
    "r2_4 = r2_score(y_test, y_predict4)\n",
    "\n",
    "# R-squared (coefficient of determination) for Naives Bayes\n",
    "from sklearn.metrics import mean_absolute_error, mean_squared_error, r2_score\n",
    "r2_5 = r2_score(y_test, y_predict5)\n",
    "\n",
    "# R-squared (coefficient of determination) for KNN\n",
    "from sklearn.metrics import mean_absolute_error, mean_squared_error, r2_score\n",
    "r2_6 = r2_score(y_test, y_predict6)\n",
    "\n",
    "print(f\"The R-squared (coefficient of determination) for Linear Regression is {r2}\")\n",
    "print(f\"The R-squared (coefficient of determination) for Decision Tree Regression is {r2_2}\")\n",
    "print(f\"The R-squared (coefficient of determination) for Random Forest Regression is {r2_3}\")\n",
    "print(f\"The R-squared (coefficient of determination) for SVM Regression is {r2_4}\")\n",
    "print(f\"The R-squared (coefficient of determination) for Naives Bayes is {r2_5}\")\n",
    "print(f\"The R-squared (coefficient of determination) for KNN is {r2_6}\")"
   ]
  },
  {
   "cell_type": "code",
   "execution_count": 131,
   "id": "2417d651",
   "metadata": {},
   "outputs": [
    {
     "name": "stdout",
     "output_type": "stream",
     "text": [
      "Enter Years Of Experience 7.1\n",
      "The estimated salary = [92567.54545455]\n"
     ]
    }
   ],
   "source": [
    "#KNN seems to be the best model\n",
    "YearsExperience = float(input(\"Enter Years Of Experience \"))\n",
    "\n",
    "from sklearn.model_selection import train_test_split\n",
    "x_train, x_test, y_train, y_test = train_test_split(x, y, test_size= 0.2, random_state= 12)\n",
    "\n",
    "from sklearn.neighbors import KNeighborsRegressor\n",
    "model6 = KNeighborsRegressor(n_neighbors=11, weights='uniform', algorithm='auto',leaf_size=30,p=2,metric='minkowski')\n",
    "\n",
    "model6.fit(x_train, y_train)\n",
    "\n",
    "x_test2 = [[YearsExperience]]\n",
    "y_predict6 = model6.predict(x_test2)\n",
    "print(f\"The estimated salary = {y_predict6}\")"
   ]
  },
  {
   "cell_type": "code",
   "execution_count": null,
   "id": "4e3ea159",
   "metadata": {},
   "outputs": [],
   "source": []
  }
 ],
 "metadata": {
  "kernelspec": {
   "display_name": "Python 3 (ipykernel)",
   "language": "python",
   "name": "python3"
  },
  "language_info": {
   "codemirror_mode": {
    "name": "ipython",
    "version": 3
   },
   "file_extension": ".py",
   "mimetype": "text/x-python",
   "name": "python",
   "nbconvert_exporter": "python",
   "pygments_lexer": "ipython3",
   "version": "3.11.4"
  }
 },
 "nbformat": 4,
 "nbformat_minor": 5
}
